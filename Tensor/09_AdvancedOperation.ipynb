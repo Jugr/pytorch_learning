{
 "cells": [
  {
   "cell_type": "code",
   "execution_count": 1,
   "metadata": {
    "collapsed": true
   },
   "outputs": [],
   "source": [
    "import torch"
   ]
  },
  {
   "cell_type": "heading",
   "metadata": {},
   "level": 1,
   "source": [
    "condition"
   ]
  },
  {
   "cell_type": "code",
   "execution_count": 2,
   "metadata": {},
   "outputs": [
    {
     "data": {
      "text/plain": [
       "tensor([[0.2764, 0.1012],\n        [0.3149, 0.9394]])"
      ]
     },
     "execution_count": 2,
     "metadata": {},
     "output_type": "execute_result"
    }
   ],
   "source": [
    "condition = torch.rand(2,2)\n",
    "condition"
   ]
  },
  {
   "cell_type": "code",
   "execution_count": 3,
   "metadata": {},
   "outputs": [
    {
     "data": {
      "text/plain": [
       "(tensor([[0., 0.],\n         [0., 0.]]), tensor([[1., 1.],\n         [1., 1.]]))"
      ]
     },
     "execution_count": 3,
     "metadata": {},
     "output_type": "execute_result"
    }
   ],
   "source": [
    "a = torch.zeros(2,2)\n",
    "b = torch.ones(2,2)\n",
    "a,b"
   ]
  },
  {
   "cell_type": "code",
   "execution_count": 4,
   "metadata": {},
   "outputs": [
    {
     "data": {
      "text/plain": [
       "tensor([[1., 1.],\n        [1., 0.]])"
      ]
     },
     "execution_count": 4,
     "metadata": {},
     "output_type": "execute_result"
    }
   ],
   "source": [
    "torch.where(condition>0.5,a,b)"
   ]
  },
  {
   "cell_type": "heading",
   "metadata": {},
   "level": 1,
   "source": [
    "gather  给定原表及表元素索引值，给定混乱索引值序列，根据该序列将对应原表中元素找到生成新表 "
   ]
  },
  {
   "cell_type": "code",
   "execution_count": 6,
   "metadata": {},
   "outputs": [
    {
     "data": {
      "text/plain": [
       "tensor([[-0.3849,  0.6629,  0.2768, -0.3214,  2.5108, -0.9202, -0.1336, -0.2436,\n         -1.0793,  0.8956],\n        [-0.2562,  0.1056, -1.6957,  0.6380, -2.0201, -0.5975,  0.8315,  0.1165,\n         -1.4352,  0.0388],\n        [ 0.9098, -0.9617, -0.7135, -0.0785, -0.0200,  0.5812, -1.9131, -1.4391,\n         -0.0736, -1.1560],\n        [ 0.8999, -0.0186, -0.9111, -0.2860,  0.0645, -0.6413, -0.1403, -1.9025,\n          0.6210,  0.1224]])"
      ]
     },
     "execution_count": 6,
     "metadata": {},
     "output_type": "execute_result"
    }
   ],
   "source": [
    "prob = torch.randn(4,10)\n",
    "prob"
   ]
  },
  {
   "cell_type": "code",
   "execution_count": 14,
   "metadata": {},
   "outputs": [
    {
     "data": {
      "text/plain": [
       "torch.return_types.topk(\nvalues=tensor([[ 2.5108,  0.8956,  0.6629],\n        [ 0.8315,  0.6380,  0.1165],\n        [ 0.9098,  0.5812, -0.0200],\n        [ 0.8999,  0.6210,  0.1224]]),\nindices=tensor([[4, 9, 1],\n        [6, 3, 7],\n        [0, 5, 4],\n        [0, 8, 9]]))"
      ]
     },
     "execution_count": 14,
     "metadata": {},
     "output_type": "execute_result"
    }
   ],
   "source": [
    "idx = prob.topk(k=3,dim=1)\n",
    "idx"
   ]
  },
  {
   "cell_type": "code",
   "execution_count": null,
   "metadata": {},
   "outputs": [],
   "source": [
    "idx = idx[1]\n",
    "idx"
   ]
  },
  {
   "cell_type": "heading",
   "metadata": {},
   "level": 1,
   "source": [
    "回忆：洗牌：torch.randperm()"
   ]
  },
  {
   "cell_type": "code",
   "execution_count": 18,
   "metadata": {},
   "outputs": [
    {
     "data": {
      "text/plain": [
       "tensor([[100, 101, 102, 103, 104, 105, 106, 107, 108, 109],\n        [100, 101, 102, 103, 104, 105, 106, 107, 108, 109],\n        [100, 101, 102, 103, 104, 105, 106, 107, 108, 109],\n        [100, 101, 102, 103, 104, 105, 106, 107, 108, 109]])"
      ]
     },
     "execution_count": 18,
     "metadata": {},
     "output_type": "execute_result"
    }
   ],
   "source": [
    "label = torch.arange(10)+100\n",
    "label = label.expand(4,10)\n",
    "label"
   ]
  },
  {
   "cell_type": "code",
   "execution_count": 19,
   "metadata": {},
   "outputs": [
    {
     "data": {
      "text/plain": [
       "tensor([[104, 109, 101],\n        [106, 103, 107],\n        [100, 105, 104],\n        [100, 108, 109]])"
      ]
     },
     "execution_count": 19,
     "metadata": {},
     "output_type": "execute_result"
    }
   ],
   "source": [
    "torch.gather(label,dim=1,index=idx.long())"
   ]
  },
  {
   "cell_type": "code",
   "execution_count": null,
   "metadata": {},
   "outputs": [],
   "source": []
  }
 ],
 "metadata": {
  "kernelspec": {
   "display_name": "Python 2",
   "language": "python",
   "name": "python2"
  },
  "language_info": {
   "codemirror_mode": {
    "name": "ipython",
    "version": 2
   },
   "file_extension": ".py",
   "mimetype": "text/x-python",
   "name": "python",
   "nbconvert_exporter": "python",
   "pygments_lexer": "ipython2",
   "version": "2.7.6"
  }
 },
 "nbformat": 4,
 "nbformat_minor": 0
}
